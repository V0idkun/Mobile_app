{
 "cells": [
  {
   "cell_type": "markdown",
   "id": "5fb7cfc2",
   "metadata": {},
   "source": [
    "# Mobile Price Classification"
   ]
  },
  {
   "cell_type": "markdown",
   "id": "505ba587",
   "metadata": {},
   "source": [
    "The project is basically about the prices of mobile phones, in this case we want to help the owner of mobile company give a though fight with his rival company but he does not know how to estimate the price of the mobile phone his company creates, so my job is to help him by collecting dataset of various mobile company prices for phones with the features of those phones and build a model to help solve his problem."
   ]
  },
  {
   "cell_type": "markdown",
   "id": "82bf6100",
   "metadata": {},
   "source": [
    "I am using RandomForestClassifier because i am looking at using a model that will give me good accuracy and wont be prun to ovefitting, while i am using RandomizesSearchCV for the hyperparameter tuning to better the model accuracy."
   ]
  },
  {
   "cell_type": "markdown",
   "id": "ac6ad973",
   "metadata": {},
   "source": []
  }
 ],
 "metadata": {
  "language_info": {
   "name": "python"
  }
 },
 "nbformat": 4,
 "nbformat_minor": 5
}
